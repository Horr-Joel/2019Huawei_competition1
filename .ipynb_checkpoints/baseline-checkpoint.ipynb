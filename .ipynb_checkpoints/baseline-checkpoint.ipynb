{
 "cells": [
  {
   "cell_type": "code",
   "execution_count": 1,
   "metadata": {},
   "outputs": [],
   "source": [
    "import numpy as np\n",
    "import pandas as pd\n",
    "from matplotlib import pyplot as plt\n",
    "from tqdm import tqdm\n",
    "from sklearn.model_selection import StratifiedKFold\n",
    "from sklearn.metrics import accuracy_score\n",
    "from sklearn.preprocessing import LabelEncoder\n",
    "pd.set_option('display.max_columns', 500)"
   ]
  },
  {
   "cell_type": "code",
   "execution_count": 2,
   "metadata": {},
   "outputs": [],
   "source": [
    "'''\n",
    "用户标识（uId）匿名化处理后的用户唯一标识（ID取值从1000001开始，依次递增）\n",
    "年龄段（age_group）年龄范围（取值1； 2； 3； 4； 5；6；）'''\n",
    "label = pd.read_csv(\"data/age_train.csv\",header=None)\n",
    "label.columns = ['uId','age_group']"
   ]
  },
  {
   "cell_type": "code",
   "execution_count": 3,
   "metadata": {},
   "outputs": [],
   "source": [
    "'''\n",
    "用户标识（uId）匿名化处理后的用户唯一标识（ID取值从1000001开始，依次递增）\n",
    "'''\n",
    "test = pd.read_csv(\"data/age_test.csv\",header=None)\n",
    "test.columns = ['uId']"
   ]
  },
  {
   "cell_type": "code",
   "execution_count": 4,
   "metadata": {},
   "outputs": [],
   "source": [
    "'''\n",
    "用户标识（uId）匿名化处理后的用户唯一标识（ID取值从1000001开始，依次递增）\n",
    "开机次数（bootTimes）一段时间内(30天)手机的总开机次数\n",
    "手机A特性使用次数（AFuncTimes）一段时间内(30天) 手机A特性使用次数\n",
    "手机B特性使用次数（BFuncTimes）一段时间内(30天) 手机B特性使用次数\n",
    "手机C特性使用次数（CFuncTimes）一段时间内(30天) 手机C特性使用次数\n",
    "手机D特性使用次数（DFuncTimes）一段时间内(30天) 手机D特性使用次数\n",
    "手机E特性使用次数（EFuncTimes）一段时间内(30天) 手机E特性使用次数\n",
    "手机F特性使用次数（FFuncTimes）一段时间内(30天) 手机F特性使用次数\n",
    "手机G特性使用情况（GFuncSum）一段时间内(30天)G特性使用情况（数值）'''\n",
    "behavior = pd.read_csv(\"data/user_behavior_info.csv\",header=None)\n",
    "behavior.columns = ['uId','bootTimes','AFuncTimes','BFuncTimes','CFuncTimes','DFuncTimes','EFuncTimes','FFuncTimes','GFuncTimes']\n",
    "\n",
    "behavior['ABCDEFTimes'] = behavior['AFuncTimes'] + behavior['BFuncTimes'] + behavior['CFuncTimes'] + behavior['DFuncTimes'] + \\\n",
    "                          behavior['EFuncTimes'] + behavior['FFuncTimes']\n",
    "behavior['G_boot'] = behavior['GFuncTimes'] / behavior['bootTimes']\n",
    "behavior['A_all'] = behavior['AFuncTimes'] / behavior['ABCDEFTimes']\n",
    "behavior['B_all'] = behavior['BFuncTimes'] / behavior['ABCDEFTimes']\n",
    "behavior['C_all'] = behavior['CFuncTimes'] / behavior['ABCDEFTimes']\n",
    "behavior['D_all'] = behavior['DFuncTimes'] / behavior['ABCDEFTimes']\n",
    "behavior['E_all'] = behavior['EFuncTimes'] / behavior['ABCDEFTimes']\n",
    "behavior['F_all'] = behavior['FFuncTimes'] / behavior['ABCDEFTimes']\n",
    "behavior['all_boot'] = behavior['ABCDEFTimes']/ behavior['bootTimes']"
   ]
  },
  {
   "cell_type": "code",
   "execution_count": 5,
   "metadata": {},
   "outputs": [],
   "source": [
    "'''\n",
    "应用标识（appId）appId为app应用的唯一标识\n",
    "应用类型（category）app所属的应用类型\n",
    "'''\n",
    "app_info = pd.read_csv(\"data/app_info.csv\",header=None)\n",
    "app_info.columns = ['appId','category']\n",
    "\n",
    "\n",
    "#  category 为主键，每个下的appid数量\n"
   ]
  },
  {
   "cell_type": "code",
   "execution_count": 61,
   "metadata": {},
   "outputs": [
    {
     "data": {
      "text/plain": [
       "appId       167622\n",
       "category        40\n",
       "dtype: int64"
      ]
     },
     "execution_count": 61,
     "metadata": {},
     "output_type": "execute_result"
    }
   ],
   "source": [
    "app_info.nunique()"
   ]
  },
  {
   "cell_type": "code",
   "execution_count": 6,
   "metadata": {},
   "outputs": [],
   "source": [
    "'''\n",
    "用户标识（uId）匿名化处理后的用户唯一标识（ID取值从1000001开始，依次递增）\n",
    "性别（gender）男/女（取值空间0,1）\n",
    "常住地（city）如深圳市、南京市等（匿名化处理，实际取值c001，c002….）\n",
    "手机型号（prodName）如mate10、honor 10等（匿名化处理，实际取值p001、p002……）\n",
    "手机ram容量（ramCapacity）手机ram的大小，以G为单位\n",
    "ram剩余容量占比（ramLeftRation）手机剩余的容量占总容量的比例\n",
    "rom容量（romCapacity）手机rom的大小，以G为单位\n",
    "rom剩余容量占比（romLeftRation）手机剩余rom容量占总rom容量的比例\n",
    "手机颜色（color）手机机身的颜色\n",
    "字体大小（fontSize）手机设置的字体大小\n",
    "上网类型（ct）2G/3G/4G/WIFI\n",
    "移动运营商（carrier）移动/联通/电信/其他\n",
    "手机系统版本（os）AndroId操作系统的版本号\n",
    "'''\n",
    "\n",
    "user_info = pd.read_csv('data/user_basic_info.csv',header=None)\n",
    "user_info.columns = ['uId','gender','city','prodName','ramCapacity','ramLeftRation','romCapacity'\n",
    ",'romLeftRation','color','fontSize','ct','carrier','os']\n",
    "\n",
    "user_info['ramLeft'] = user_info['ramCapacity'] * user_info['ramLeftRation']\n",
    "user_info['romLeft'] = user_info['romCapacity'] * user_info['romLeftRation']\n",
    "user_info['rom_ram'] = user_info['romCapacity'] / user_info['ramCapacity']\n",
    "user_info['ct_2g'] = user_info['ct'].apply(lambda x: 1 if isinstance(x,str) and '2g' in x else 0)\n",
    "user_info['ct_3g'] = user_info['ct'].apply(lambda x: 1 if isinstance(x,str) and '3g' in x else 0)\n",
    "user_info['ct_4g'] = user_info['ct'].apply(lambda x: 1 if isinstance(x,str) and '4g' in x else 0)\n",
    "user_info['ct_wifi'] = user_info['ct'].apply(lambda x: 1 if isinstance(x,str) and 'wifi' in x else 0)\n",
    "del user_info['ct']\n",
    "\n",
    "user_info['os_first'] = user_info['os'].apply(lambda x:int(x) if not np.isnan(x) else -1)"
   ]
  },
  {
   "cell_type": "code",
   "execution_count": 69,
   "metadata": {},
   "outputs": [
    {
     "data": {
      "text/plain": [
       "gender        2\n",
       "city        363\n",
       "prodName    227\n",
       "color       136\n",
       "ct            7\n",
       "carrier       4\n",
       "os           16\n",
       "dtype: int64"
      ]
     },
     "execution_count": 69,
     "metadata": {},
     "output_type": "execute_result"
    }
   ],
   "source": [
    "cate = ['gender','city','prodName','color','ct','carrier','os']\n",
    "user_info[cate].nunique()"
   ]
  },
  {
   "cell_type": "code",
   "execution_count": null,
   "metadata": {},
   "outputs": [],
   "source": [
    "# 内存不够，这个先不用\n",
    "# ---------------------------------------------------------------------\n",
    "'''\n",
    "用户标识（uId）匿名化处理后的用户唯一标识（ID取值从1000001开始，依次递增）\n",
    "应用标识（appId）匿名化处理后的app唯一标识\n",
    "使用时长（duration）1天内用户对某app的累计使用时长\n",
    "打开次数（times）1天内用户对某app的累计打开次数\n",
    "使用日期（use_date）用户对某app的使用日期\n",
    "\n",
    "usage = pd.read_csv('data/user_app_usage.csv',header=None)\n",
    "usage.columns = ['uId','appId','duration','times','use_date']\n",
    "'''"
   ]
  },
  {
   "cell_type": "code",
   "execution_count": 7,
   "metadata": {},
   "outputs": [],
   "source": [
    "'''\n",
    "用户标识（uId）匿名化处理后的用户唯一标识（ID取值从1000001开始，依次递增）\n",
    "应用标识（appId）匿名化处理后的app唯一标识'''\n",
    "active = pd.read_csv(\"data/user_app_actived.csv\",header=None)\n",
    "active.columns = ['uId','appId']\n",
    "\n",
    "active['appId'] = active['appId'].apply(lambda x:x.split('#'))\n",
    "active['appNum'] = active['appId'].apply(lambda x:len(x) if x[0]!='\\\\N' else 0)\n",
    "active['appNum'].describe()"
   ]
  },
  {
   "cell_type": "code",
   "execution_count": 12,
   "metadata": {},
   "outputs": [
    {
     "data": {
      "text/plain": [
       "9401"
      ]
     },
     "execution_count": 12,
     "metadata": {},
     "output_type": "execute_result"
    }
   ],
   "source": [
    "tmp = active['appId'].values\n",
    "appid= set()\n",
    "for each in tmp:\n",
    "    appid |= set(each)\n",
    "len(appid)"
   ]
  },
  {
   "cell_type": "code",
   "execution_count": 8,
   "metadata": {},
   "outputs": [
    {
     "data": {
      "text/plain": [
       "\"\\n# 统计每个用户 每个app类别下的激活app的比例，贝叶斯平滑 ,有的激活appid不在app_info中,那就不计算，也把其的数目减掉\\ntmp = active['appId'].values\\nres = []\\nfor i in tqdm(range(len(tmp))):\\n    line = [0.0]*(len(app_map)+1)\\n    # 这个用户总共激活多少app\\n    cnt = len(tmp[i])\\n    for app in tmp[i]:\\n        line[app_map[app]] += 1\\n    for j in range(len(line)):\\n        line[j] /= cnt\\n    res.append(line[:])\\n\""
      ]
     },
     "execution_count": 8,
     "metadata": {},
     "output_type": "execute_result"
    }
   ],
   "source": [
    "# 统计每个appId激活人数，和激活人的属性分布，年龄、性别、城市、手机型号等属性\n",
    "\n",
    "le = LabelEncoder()\n",
    "app_info['category'] = le.fit_transform(app_info['category'])\n",
    "\n",
    "key = app_info.appId.values\n",
    "val = app_info.category.values\n",
    "\n",
    "from collections import defaultdict as dd\n",
    "\n",
    "app_map = dd(int)\n",
    "for i in range(len(key)):\n",
    "     app_map[key[i]] = val[i]\n",
    "        \n",
    "\"\"\"\n",
    "# 统计每个用户 每个app类别下的激活app的比例，贝叶斯平滑 ,有的激活appid不在app_info中,那就不计算，也把其的数目减掉\n",
    "tmp = active['appId'].values\n",
    "res = []\n",
    "for i in tqdm(range(len(tmp))):\n",
    "    line = [0.0]*(len(app_map)+1)\n",
    "    # 这个用户总共激活多少app\n",
    "    cnt = len(tmp[i])\n",
    "    for app in tmp[i]:\n",
    "        line[app_map[app]] += 1\n",
    "    for j in range(len(line)):\n",
    "        line[j] /= cnt\n",
    "    res.append(line[:])\n",
    "\"\"\""
   ]
  },
  {
   "cell_type": "code",
   "execution_count": null,
   "metadata": {},
   "outputs": [],
   "source": [
    "# 每个用户激活了几种类别的app\n",
    "def app_cate_data(x,t):\n",
    "    cate = dd(int)\n",
    "    for each in x:    \n",
    "        cate[app_map[each]] += 1\n",
    "    tmp = cate.values()\n",
    "    s = sum(tmp)+1\n",
    "    # all_num\n",
    "    if t == 0:\n",
    "        return len(cate)\n",
    "    # max_num\n",
    "    elif t == 1:\n",
    "        return max(tmp)/s\n",
    "    # min_num\n",
    "    else:\n",
    "        return min(tmp)/s\n",
    "        \n",
    "active['app_cate_num'] = active['appId'].apply(lambda x: app_cate_data(x,0))\n",
    "\n",
    "#平均每种app激活多少\n",
    "active['app_cate_mean'] = active['appNum']/active['app_cate_num']\n",
    "\n",
    "# 激活最多种类的app数目、占所有激活数目比例\n",
    "active['app_cate_maxRate'] = active['appId'].apply(lambda x: app_cate_data(x,1))\n",
    "active['app_cate_minRate'] = active['appId'].apply(lambda x: app_cate_data(x,2))\n",
    "active['app_cate_max'] = active['app_cate_maxRate'] * (active['appNum']+1)\n",
    "active['app_cate_min'] = active['app_cate_minRate'] * (active['appNum']+1)"
   ]
  },
  {
   "cell_type": "code",
   "execution_count": null,
   "metadata": {},
   "outputs": [],
   "source": [
    "train_cols = label.shape[0]\n",
    "data = label.append(test)\n",
    "data = label.merge(user_info,how='left',on='uId')\n",
    "data = label.merge(active,how='left',on='uId')\n",
    "data = label.merge(behavior,how='left',on='uId')\n",
    "del data['appId']"
   ]
  },
  {
   "cell_type": "code",
   "execution_count": null,
   "metadata": {},
   "outputs": [],
   "source": [
    "for f1 in ['prodName','city','gender','color','os_first','carrier','ct_2g','ct_3g','ct_4g','ct_wifi']:\n",
    "    for f2 in ['appNum','ramCapacity','romCapacity','fontSize','bootTimes','AFuncTimes','BFuncTimes',\n",
    "               'CFuncTimes','DFuncTimes','EFuncTimes','FFuncTimes','GFuncTimes']:\n",
    "        print(data.groupby(f1)[f2].agg(['mean','min','max','std','size']))\n",
    "        \n",
    "feat_dict = {}\n",
    "for f in ['city','prodName','color','gender','ct','carrier','os']\n",
    "    le = LabelEncoder()\n",
    "    data[f] = le.fit_transform(data[f])\n",
    "    feat_dict[f] = data[f].nunique()"
   ]
  },
  {
   "cell_type": "code",
   "execution_count": 52,
   "metadata": {},
   "outputs": [],
   "source": [
    "train = data.iloc[:train_cols]\n",
    "test = data.iloc[train_cols:]\n",
    "del test['age_group']\n",
    "y = train['age_group'] - 1\n",
    "del train['age_group']\n",
    "X = train\n",
    "del train"
   ]
  },
  {
   "cell_type": "code",
   "execution_count": 70,
   "metadata": {},
   "outputs": [],
   "source": []
  },
  {
   "cell_type": "code",
   "execution_count": 13,
   "metadata": {},
   "outputs": [],
   "source": []
  },
  {
   "cell_type": "code",
   "execution_count": null,
   "metadata": {},
   "outputs": [],
   "source": []
  }
 ],
 "metadata": {
  "kernelspec": {
   "display_name": "Python 3",
   "language": "python",
   "name": "python3"
  },
  "language_info": {
   "codemirror_mode": {
    "name": "ipython",
    "version": 3
   },
   "file_extension": ".py",
   "mimetype": "text/x-python",
   "name": "python",
   "nbconvert_exporter": "python",
   "pygments_lexer": "ipython3",
   "version": "3.6.5"
  }
 },
 "nbformat": 4,
 "nbformat_minor": 2
}
